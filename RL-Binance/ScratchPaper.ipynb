{
 "cells": [
  {
   "cell_type": "code",
   "execution_count": 12,
   "id": "2b3276a9",
   "metadata": {},
   "outputs": [
    {
     "data": {
      "text/html": [
       "<div>\n",
       "<style scoped>\n",
       "    .dataframe tbody tr th:only-of-type {\n",
       "        vertical-align: middle;\n",
       "    }\n",
       "\n",
       "    .dataframe tbody tr th {\n",
       "        vertical-align: top;\n",
       "    }\n",
       "\n",
       "    .dataframe thead th {\n",
       "        text-align: right;\n",
       "    }\n",
       "</style>\n",
       "<table border=\"1\" class=\"dataframe\">\n",
       "  <thead>\n",
       "    <tr style=\"text-align: right;\">\n",
       "      <th></th>\n",
       "      <th>Date</th>\n",
       "      <th>Open</th>\n",
       "      <th>Close</th>\n",
       "      <th>High</th>\n",
       "      <th>Low</th>\n",
       "      <th>Volume</th>\n",
       "    </tr>\n",
       "  </thead>\n",
       "  <tbody>\n",
       "    <tr>\n",
       "      <th>0</th>\n",
       "      <td>2019-07-05 12:00:00</td>\n",
       "      <td>0.00449</td>\n",
       "      <td>0.004200</td>\n",
       "      <td>0.004600</td>\n",
       "      <td>0.003760</td>\n",
       "      <td>60726008.0</td>\n",
       "    </tr>\n",
       "    <tr>\n",
       "      <th>1</th>\n",
       "      <td>2019-07-05 12:01:00</td>\n",
       "      <td>0.00420</td>\n",
       "      <td>0.004300</td>\n",
       "      <td>0.004387</td>\n",
       "      <td>0.004200</td>\n",
       "      <td>84307704.0</td>\n",
       "    </tr>\n",
       "    <tr>\n",
       "      <th>2</th>\n",
       "      <td>2019-07-05 12:02:00</td>\n",
       "      <td>0.00430</td>\n",
       "      <td>0.004475</td>\n",
       "      <td>0.004475</td>\n",
       "      <td>0.004300</td>\n",
       "      <td>48182744.0</td>\n",
       "    </tr>\n",
       "    <tr>\n",
       "      <th>3</th>\n",
       "      <td>2019-07-05 12:03:00</td>\n",
       "      <td>0.00445</td>\n",
       "      <td>0.004250</td>\n",
       "      <td>0.004450</td>\n",
       "      <td>0.004169</td>\n",
       "      <td>66457852.0</td>\n",
       "    </tr>\n",
       "    <tr>\n",
       "      <th>4</th>\n",
       "      <td>2019-07-05 12:04:00</td>\n",
       "      <td>0.00425</td>\n",
       "      <td>0.004350</td>\n",
       "      <td>0.004385</td>\n",
       "      <td>0.004250</td>\n",
       "      <td>22016424.0</td>\n",
       "    </tr>\n",
       "  </tbody>\n",
       "</table>\n",
       "</div>"
      ],
      "text/plain": [
       "                 Date     Open     Close      High       Low      Volume\n",
       "0 2019-07-05 12:00:00  0.00449  0.004200  0.004600  0.003760  60726008.0\n",
       "1 2019-07-05 12:01:00  0.00420  0.004300  0.004387  0.004200  84307704.0\n",
       "2 2019-07-05 12:02:00  0.00430  0.004475  0.004475  0.004300  48182744.0\n",
       "3 2019-07-05 12:03:00  0.00445  0.004250  0.004450  0.004169  66457852.0\n",
       "4 2019-07-05 12:04:00  0.00425  0.004350  0.004385  0.004250  22016424.0"
      ]
     },
     "execution_count": 12,
     "metadata": {},
     "output_type": "execute_result"
    }
   ],
   "source": [
    "import pyarrow.parquet as pq\n",
    "ticker='DOGE-USDT'\n",
    "df  = pq.read_table(f'{ticker}.parquet').to_pandas().reset_index(drop=False)\n",
    "df  = df[['open_time','open','close','high','low','volume']]\n",
    "df = df.rename(columns={'open_time':'Date','open':'Open','close':'Close','high':'High','low':'Low','volume':'Volume'})\n",
    "df = df.dropna()\n",
    "df = df.sort_values('Date')\n",
    "df.head()"
   ]
  },
  {
   "cell_type": "code",
   "execution_count": 45,
   "id": "f15e9f97",
   "metadata": {},
   "outputs": [
    {
     "data": {
      "text/html": [
       "<div>\n",
       "<style scoped>\n",
       "    .dataframe tbody tr th:only-of-type {\n",
       "        vertical-align: middle;\n",
       "    }\n",
       "\n",
       "    .dataframe tbody tr th {\n",
       "        vertical-align: top;\n",
       "    }\n",
       "\n",
       "    .dataframe thead th {\n",
       "        text-align: right;\n",
       "    }\n",
       "</style>\n",
       "<table border=\"1\" class=\"dataframe\">\n",
       "  <thead>\n",
       "    <tr style=\"text-align: right;\">\n",
       "      <th></th>\n",
       "      <th>Date</th>\n",
       "      <th>Open</th>\n",
       "      <th>Close</th>\n",
       "      <th>High</th>\n",
       "      <th>Low</th>\n",
       "      <th>Volume</th>\n",
       "    </tr>\n",
       "  </thead>\n",
       "  <tbody>\n",
       "    <tr>\n",
       "      <th>0</th>\n",
       "      <td>2019-07-05 12:00:00</td>\n",
       "      <td>0.004490</td>\n",
       "      <td>0.004200</td>\n",
       "      <td>0.004600</td>\n",
       "      <td>0.003760</td>\n",
       "      <td>60726008.0</td>\n",
       "    </tr>\n",
       "    <tr>\n",
       "      <th>1</th>\n",
       "      <td>2019-07-05 12:01:00</td>\n",
       "      <td>0.004200</td>\n",
       "      <td>0.004300</td>\n",
       "      <td>0.004387</td>\n",
       "      <td>0.004200</td>\n",
       "      <td>84307704.0</td>\n",
       "    </tr>\n",
       "    <tr>\n",
       "      <th>2</th>\n",
       "      <td>2019-07-05 12:02:00</td>\n",
       "      <td>0.004300</td>\n",
       "      <td>0.004475</td>\n",
       "      <td>0.004475</td>\n",
       "      <td>0.004300</td>\n",
       "      <td>48182744.0</td>\n",
       "    </tr>\n",
       "    <tr>\n",
       "      <th>3</th>\n",
       "      <td>2019-07-05 12:03:00</td>\n",
       "      <td>0.004450</td>\n",
       "      <td>0.004250</td>\n",
       "      <td>0.004450</td>\n",
       "      <td>0.004169</td>\n",
       "      <td>66457852.0</td>\n",
       "    </tr>\n",
       "    <tr>\n",
       "      <th>4</th>\n",
       "      <td>2019-07-05 12:04:00</td>\n",
       "      <td>0.004250</td>\n",
       "      <td>0.004350</td>\n",
       "      <td>0.004385</td>\n",
       "      <td>0.004250</td>\n",
       "      <td>22016424.0</td>\n",
       "    </tr>\n",
       "    <tr>\n",
       "      <th>...</th>\n",
       "      <td>...</td>\n",
       "      <td>...</td>\n",
       "      <td>...</td>\n",
       "      <td>...</td>\n",
       "      <td>...</td>\n",
       "      <td>...</td>\n",
       "    </tr>\n",
       "    <tr>\n",
       "      <th>780636</th>\n",
       "      <td>2020-12-29 23:55:00</td>\n",
       "      <td>0.004491</td>\n",
       "      <td>0.004493</td>\n",
       "      <td>0.004493</td>\n",
       "      <td>0.004491</td>\n",
       "      <td>20251.0</td>\n",
       "    </tr>\n",
       "    <tr>\n",
       "      <th>780637</th>\n",
       "      <td>2020-12-29 23:56:00</td>\n",
       "      <td>0.004487</td>\n",
       "      <td>0.004495</td>\n",
       "      <td>0.004497</td>\n",
       "      <td>0.004486</td>\n",
       "      <td>368361.0</td>\n",
       "    </tr>\n",
       "    <tr>\n",
       "      <th>780638</th>\n",
       "      <td>2020-12-29 23:57:00</td>\n",
       "      <td>0.004495</td>\n",
       "      <td>0.004500</td>\n",
       "      <td>0.004500</td>\n",
       "      <td>0.004493</td>\n",
       "      <td>71161.0</td>\n",
       "    </tr>\n",
       "    <tr>\n",
       "      <th>780639</th>\n",
       "      <td>2020-12-29 23:58:00</td>\n",
       "      <td>0.004500</td>\n",
       "      <td>0.004488</td>\n",
       "      <td>0.004500</td>\n",
       "      <td>0.004488</td>\n",
       "      <td>33939.0</td>\n",
       "    </tr>\n",
       "    <tr>\n",
       "      <th>780640</th>\n",
       "      <td>2020-12-29 23:59:00</td>\n",
       "      <td>0.004493</td>\n",
       "      <td>0.004501</td>\n",
       "      <td>0.004501</td>\n",
       "      <td>0.004488</td>\n",
       "      <td>389899.0</td>\n",
       "    </tr>\n",
       "  </tbody>\n",
       "</table>\n",
       "<p>780641 rows × 6 columns</p>\n",
       "</div>"
      ],
      "text/plain": [
       "                      Date      Open     Close      High       Low      Volume\n",
       "0      2019-07-05 12:00:00  0.004490  0.004200  0.004600  0.003760  60726008.0\n",
       "1      2019-07-05 12:01:00  0.004200  0.004300  0.004387  0.004200  84307704.0\n",
       "2      2019-07-05 12:02:00  0.004300  0.004475  0.004475  0.004300  48182744.0\n",
       "3      2019-07-05 12:03:00  0.004450  0.004250  0.004450  0.004169  66457852.0\n",
       "4      2019-07-05 12:04:00  0.004250  0.004350  0.004385  0.004250  22016424.0\n",
       "...                    ...       ...       ...       ...       ...         ...\n",
       "780636 2020-12-29 23:55:00  0.004491  0.004493  0.004493  0.004491     20251.0\n",
       "780637 2020-12-29 23:56:00  0.004487  0.004495  0.004497  0.004486    368361.0\n",
       "780638 2020-12-29 23:57:00  0.004495  0.004500  0.004500  0.004493     71161.0\n",
       "780639 2020-12-29 23:58:00  0.004500  0.004488  0.004500  0.004488     33939.0\n",
       "780640 2020-12-29 23:59:00  0.004493  0.004501  0.004501  0.004488    389899.0\n",
       "\n",
       "[780641 rows x 6 columns]"
      ]
     },
     "execution_count": 45,
     "metadata": {},
     "output_type": "execute_result"
    }
   ],
   "source": [
    "ticker='DOGE-USDT'\n",
    "df  = pq.read_table(f'{ticker}.parquet').to_pandas().reset_index(drop=False)\n",
    "df  = df[['open_time','open','close','high','low','volume']]\n",
    "df = df.rename(columns={'open_time':'Date','open':'Open','close':'Close','high':'High','low':'Low','volume':'Volume'})\n",
    "\n",
    "# turn on during test_multiprocessing\n",
    "df"
   ]
  },
  {
   "cell_type": "code",
   "execution_count": 80,
   "id": "0de96ce0",
   "metadata": {},
   "outputs": [],
   "source": [
    "ticker='VTHO-USDT'\n",
    "df  = pq.read_table(f'{ticker}.parquet').to_pandas().reset_index(drop=False)\n",
    "df  = df[['open_time','open','close','high','low','volume']]\n",
    "df = df.rename(columns={'open_time':'Date','open':'Open','close':'Close','high':'High','low':'Low','volume':'Volume'})\n",
    "\n",
    "# turn on during test_multiprocessing\n",
    "df = df[df['Date'].astype(str).str.contains(':00:00.*')==True].reset_index(drop=True)\n",
    "df = df.dropna()\n",
    "df = df.sort_values('Date')\n",
    "# insert indicators to df 2021_02_21_17_54_Crypto_trader\n",
    "\n",
    "\n",
    "\n",
    "\n",
    "depth = len(list(df.columns[1:])) # OHCL + indicators without Date\n",
    "\n",
    "df = df[100:].dropna()\n",
    "\n",
    "lookback_window_size = 150\n",
    "test_window = 720*3 # 3 months\n",
    "\n",
    "# split training and testing datasets\n",
    "train_df = df[:-test_window-lookback_window_size] # we leave 100 to have properly calculated indicators\n",
    "test_df = df[-test_window-lookback_window_size:]\n"
   ]
  },
  {
   "cell_type": "code",
   "execution_count": 81,
   "id": "5a919f61",
   "metadata": {},
   "outputs": [
    {
     "data": {
      "text/plain": [
       "6829"
      ]
     },
     "execution_count": 81,
     "metadata": {},
     "output_type": "execute_result"
    }
   ],
   "source": [
    "len(train_df)"
   ]
  },
  {
   "cell_type": "code",
   "execution_count": 82,
   "id": "66ef13da",
   "metadata": {},
   "outputs": [
    {
     "data": {
      "text/plain": [
       "<AxesSubplot:xlabel='Date'>"
      ]
     },
     "execution_count": 82,
     "metadata": {},
     "output_type": "execute_result"
    },
    {
     "data": {
      "image/png": "[encoded data removed]",
      "text/plain": [
       "<Figure size 1080x360 with 1 Axes>"
      ]
     },
     "metadata": {
      "needs_background": "light"
     },
     "output_type": "display_data"
    }
   ],
   "source": [
    "train_df.set_index(\"Date\").Close.plot(figsize=(15,5))"
   ]
  },
  {
   "cell_type": "code",
   "execution_count": 83,
   "id": "5a2e6d28",
   "metadata": {},
   "outputs": [
    {
     "data": {
      "text/plain": [
       "<AxesSubplot:xlabel='Date'>"
      ]
     },
     "execution_count": 83,
     "metadata": {},
     "output_type": "execute_result"
    },
    {
     "data": {
      "image/png": "[encoded data removed]",
      "text/plain": [
       "<Figure size 1080x360 with 1 Axes>"
      ]
     },
     "metadata": {
      "needs_background": "light"
     },
     "output_type": "display_data"
    }
   ],
   "source": [
    "test_df.set_index(\"Date\").Close.plot(figsize=(15,5))"
   ]
  },
  {
   "cell_type": "code",
   "execution_count": 84,
   "id": "91986f1d",
   "metadata": {},
   "outputs": [
    {
     "data": {
      "text/plain": [
       "2310"
      ]
     },
     "execution_count": 84,
     "metadata": {},
     "output_type": "execute_result"
    }
   ],
   "source": [
    "len(test_df)"
   ]
  },
  {
   "cell_type": "code",
   "execution_count": 1,
   "id": "1e122737",
   "metadata": {},
   "outputs": [],
   "source": [
    "# now get Binance Data using test.py\n",
    "# or implement RL model into test.py"
   ]
  }
 ],
 "metadata": {
  "kernelspec": {
   "display_name": "Python 3",
   "language": "python",
   "name": "python3"
  },
  "language_info": {
   "codemirror_mode": {
    "name": "ipython",
    "version": 3
   },
   "file_extension": ".py",
   "mimetype": "text/x-python",
   "name": "python",
   "nbconvert_exporter": "python",
   "pygments_lexer": "ipython3",
   "version": "3.8.8"
  }
 },
 "nbformat": 4,
 "nbformat_minor": 5
}
